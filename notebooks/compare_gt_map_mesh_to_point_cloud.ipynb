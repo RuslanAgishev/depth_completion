{
 "cells": [
  {
   "cell_type": "markdown",
   "id": "22a2b493",
   "metadata": {},
   "source": [
    "### Imports"
   ]
  },
  {
   "cell_type": "code",
   "execution_count": null,
   "id": "b652cc30",
   "metadata": {},
   "outputs": [],
   "source": [
    "import os\n",
    "import torch\n",
    "from pytorch3d.io import load_obj, save_obj\n",
    "from pytorch3d.structures import Meshes, Pointclouds\n",
    "from pytorch3d.utils import ico_sphere\n",
    "from pytorch3d.ops import sample_points_from_meshes\n",
    "import numpy as np\n",
    "from tqdm.notebook import tqdm\n",
    "%matplotlib notebook \n",
    "from mpl_toolkits.mplot3d import Axes3D\n",
    "import matplotlib.pyplot as plt\n",
    "import matplotlib as mpl\n",
    "mpl.rcParams['savefig.dpi'] = 80\n",
    "mpl.rcParams['figure.dpi'] = 80\n",
    "\n",
    "# Set the device\n",
    "if torch.cuda.is_available():\n",
    "    device = torch.device(\"cuda:0\")\n",
    "else:\n",
    "    device = torch.device(\"cpu\")"
   ]
  },
  {
   "cell_type": "markdown",
   "id": "506cbf78",
   "metadata": {},
   "source": [
    "### Ground truth map mesh"
   ]
  },
  {
   "cell_type": "code",
   "execution_count": null,
   "id": "b809e0f4",
   "metadata": {},
   "outputs": [],
   "source": [
    "verts, faces, aux = load_obj(os.path.join('../data/meshes/simple_cave_01.obj'))\n",
    "\n",
    "# verts is a FloatTensor of shape (V, 3) where V is the number of vertices in the mesh\n",
    "# faces is an object which contains the following LongTensors: verts_idx, normals_idx and textures_idx\n",
    "# For this tutorial, normals and textures are ignored.\n",
    "faces_idx = faces.verts_idx.to(device)\n",
    "verts = verts.to(device)\n",
    "\n",
    "# We construct a Meshes structure for the target mesh\n",
    "mesh = Meshes(verts=[verts], faces=[faces_idx])"
   ]
  },
  {
   "cell_type": "markdown",
   "id": "e855166a",
   "metadata": {},
   "source": [
    "### Point cloud to compare"
   ]
  },
  {
   "cell_type": "code",
   "execution_count": null,
   "id": "e70ad040",
   "metadata": {},
   "outputs": [],
   "source": [
    "def plot_pointcloud(inputs, title=\"\"):\n",
    "    assert isinstance(inputs, Meshes) or isinstance(inputs, Pointclouds) or isinstance(inputs, torch.Tensor)\n",
    "    if isinstance(inputs, Meshes):\n",
    "        # Sample points uniformly from the surface of the mesh.\n",
    "        points = sample_points_from_meshes(inputs, 5000)\n",
    "    elif isinstance(inputs, Pointclouds):\n",
    "        points = inputs.points_list()[0]\n",
    "    elif isinstance(inputs, torch.Tensor):\n",
    "        points = inputs\n",
    "    x, y, z = points.clone().detach().cpu().squeeze().unbind(1)    \n",
    "    fig = plt.figure(figsize=(5, 5))\n",
    "    ax = Axes3D(fig)\n",
    "    ax.scatter3D(x, z, -y)\n",
    "    ax.set_xlabel('x')\n",
    "    ax.set_ylabel('z')\n",
    "    ax.set_zlabel('y')\n",
    "    ax.set_title(title)\n",
    "    ax.view_init(190, 30)\n",
    "    plt.show()"
   ]
  },
  {
   "cell_type": "code",
   "execution_count": null,
   "id": "e134cc54",
   "metadata": {},
   "outputs": [],
   "source": [
    "torch.manual_seed(0)\n",
    "points = sample_points_from_meshes(mesh, 5000)\n",
    "# points = verts[None][:, torch.randint(verts.shape[0], (5000,)), :]\n",
    "pcl = Pointclouds(points)"
   ]
  },
  {
   "cell_type": "code",
   "execution_count": null,
   "id": "7a952af0",
   "metadata": {},
   "outputs": [],
   "source": [
    "plot_pointcloud(mesh)"
   ]
  },
  {
   "cell_type": "code",
   "execution_count": null,
   "id": "19ef821f",
   "metadata": {},
   "outputs": [],
   "source": [
    "plot_pointcloud(pcl)"
   ]
  },
  {
   "cell_type": "markdown",
   "id": "6a56a384",
   "metadata": {},
   "source": [
    "### Compare mesh to point cloud"
   ]
  },
  {
   "cell_type": "code",
   "execution_count": null,
   "id": "11476035",
   "metadata": {},
   "outputs": [],
   "source": [
    "# Compare mesh and point cloud:\n",
    "# https://pytorch3d.readthedocs.io/en/latest/modules/loss.html#pytorch3d.loss.point_mesh_edge_distance\n",
    "from pytorch3d.loss import point_mesh_edge_distance, point_mesh_face_distance"
   ]
  },
  {
   "cell_type": "code",
   "execution_count": null,
   "id": "4c257c60",
   "metadata": {
    "scrolled": false
   },
   "outputs": [],
   "source": [
    "# point cloud is simply obtained from mesh vertices\n",
    "with torch.no_grad():\n",
    "    for s in range(500, 2001, 500):\n",
    "        points = verts[None][:, torch.randint(verts.shape[0], (s,)), :]\n",
    "        pcl = Pointclouds(points)\n",
    "        # plot_pointcloud(pcl)\n",
    "        print('Num sampled points:', s)\n",
    "        print('EPPE:', point_mesh_edge_distance(meshes=mesh, pcls=pcl).sqrt().item())\n",
    "        print('\\n')\n",
    "\n",
    "        print('FPPF:', point_mesh_face_distance(meshes=mesh, pcls=pcl).sqrt().item())\n",
    "        print('-'*30)"
   ]
  },
  {
   "cell_type": "code",
   "execution_count": null,
   "id": "b198cf1c",
   "metadata": {
    "scrolled": false
   },
   "outputs": [],
   "source": [
    "# point cloud is sampled from mesh surface\n",
    "with torch.no_grad():\n",
    "    for s in range(500, 2001, 500):\n",
    "        points = sample_points_from_meshes(mesh, s)\n",
    "        pcl = Pointclouds(points)\n",
    "        # plot_pointcloud(pcl)\n",
    "        print('Num sampled points:', s)\n",
    "        print('EPPE:', point_mesh_edge_distance(meshes=mesh, pcls=pcl).sqrt().item())\n",
    "        print('\\n')\n",
    "\n",
    "        print('FPPF:', point_mesh_face_distance(meshes=mesh, pcls=pcl).sqrt().item())\n",
    "        print('-'*30)"
   ]
  }
 ],
 "metadata": {
  "kernelspec": {
   "display_name": "Python 3 (ipykernel)",
   "language": "python",
   "name": "python3"
  },
  "language_info": {
   "codemirror_mode": {
    "name": "ipython",
    "version": 3
   },
   "file_extension": ".py",
   "mimetype": "text/x-python",
   "name": "python",
   "nbconvert_exporter": "python",
   "pygments_lexer": "ipython3",
   "version": "3.8.12"
  }
 },
 "nbformat": 4,
 "nbformat_minor": 5
}
