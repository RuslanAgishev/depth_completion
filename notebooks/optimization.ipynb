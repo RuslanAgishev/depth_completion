{
 "cells": [
  {
   "cell_type": "code",
   "execution_count": null,
   "id": "fa06b364",
   "metadata": {},
   "outputs": [],
   "source": [
    "import open3d as o3d\n",
    "import sys\n",
    "import os\n",
    "import cv2\n",
    "import numpy as np\n",
    "import matplotlib.pyplot as plt\n",
    "import torch\n",
    "import torch.nn as nn\n",
    "from torch.utils.data import Dataset, DataLoader\n",
    "from tqdm import tqdm"
   ]
  },
  {
   "cell_type": "markdown",
   "id": "f96d9242",
   "metadata": {},
   "source": [
    "### Depth correction"
   ]
  },
  {
   "cell_type": "code",
   "execution_count": null,
   "id": "fc1b1328",
   "metadata": {},
   "outputs": [],
   "source": [
    "class Model(nn.Module):\n",
    "\n",
    "    def __init__(self, batch_size=1):\n",
    "        super(Model, self).__init__()\n",
    "        self.w = nn.Parameter(torch.tensor([1.1, 0.2]).view(batch_size, 1, 2))\n",
    "        self.b = nn.Parameter(torch.tensor([0.3]).view(batch_size, 1))\n",
    "\n",
    "    def forward(self, x):\n",
    "        assert x.dim() == 4\n",
    "        assert x.shape[3] == 2  # x.shape == (B, H, W, 2)\n",
    "        y = (x * self.w).sum(dim=3) + self.b\n",
    "        return y"
   ]
  },
  {
   "cell_type": "code",
   "execution_count": null,
   "id": "d87393c5",
   "metadata": {},
   "outputs": [],
   "source": [
    "class Dataset(Dataset):\n",
    "    def __init__(self, path):\n",
    "        if not os.path.exists(path):\n",
    "            os.makedirs(path)\n",
    "        self.root_dir = path\n",
    "        self.rgbs = [os.path.join(path, 'rgb', f) for f in os.listdir(os.path.join(path, 'rgb')) if '.npy' in f]\n",
    "        self.depths = [os.path.join(path, 'depth', f) for f in os.listdir(os.path.join(path, 'depth')) if '.npy' in f]\n",
    "        self.points = [os.path.join(path, 'point_clouds', f) for f in os.listdir(os.path.join(path, 'point_clouds')) if '.npy' in f]\n",
    "        self.normals = [os.path.join(path, 'normals', f) for f in os.listdir(os.path.join(path, 'normals')) if '.npy' in f]\n",
    "        self.length = len(self.depths)\n",
    "\n",
    "    def __getitem__(self, i):\n",
    "        sample = {'rgb': np.asarray(np.load(self.rgbs[i]), dtype=np.uint8),\n",
    "                  'depth': np.load(self.depths[i]),\n",
    "                  'points': np.load(self.points[i]),\n",
    "                  'normals': np.load(self.normals[i])}\n",
    "        return sample\n",
    "\n",
    "    def __len__(self):\n",
    "        return self.length"
   ]
  },
  {
   "cell_type": "code",
   "execution_count": null,
   "id": "7f005b10",
   "metadata": {},
   "outputs": [],
   "source": [
    "path = \"../ros_ws/src/gradslam_ros/data/explorer_x1_rgbd_traj/living_room_traj1_frei_png/\"\n",
    "\n",
    "data = Dataset(path)\n",
    "loader = DataLoader(data)"
   ]
  },
  {
   "cell_type": "code",
   "execution_count": null,
   "id": "22e00ae0",
   "metadata": {
    "scrolled": false
   },
   "outputs": [],
   "source": [
    "model = Model()\n",
    "\n",
    "optim = torch.optim.Adam(model.parameters(), lr=1e-4)\n",
    "optim.zero_grad()\n",
    "\n",
    "# for i, sample in tqdm(enumerate(iter(loader))):\n",
    "sample = next(iter(loader))\n",
    "for i in range(1500):\n",
    "    B, H, W = sample['depth'].shape\n",
    "    normals = torch.as_tensor(sample['normals'], dtype=torch.float32)\n",
    "    depth = torch.as_tensor(sample['depth'], dtype=torch.float32)\n",
    "    assert normals.shape == (B, W*H, 3)\n",
    "\n",
    "    # convert normals to angles\n",
    "    n = normals / torch.linalg.norm(normals)\n",
    "\n",
    "    angles = torch.empty(B, H, W)\n",
    "    for b in range(B):\n",
    "        n1 = n[b, ...]\n",
    "        # normal vector to image frame\n",
    "        v = torch.tensor([0., 0., 1.], dtype=torch.float32)\n",
    "        angles1 = torch.arccos(torch.clip(n1 @ v, -1.0, 1.0))\n",
    "        angles[b, ...] = angles1.reshape([H, W])\n",
    "    assert angles.shape == (B, H, W)\n",
    "\n",
    "    # input to the model\n",
    "    x = torch.cat([depth, angles], dim=0).permute(1, 2, 0).view([B, H, W, 2])\n",
    "\n",
    "    # inference\n",
    "    depth_pred = model(x)\n",
    "    assert depth_pred.shape == (B, H, W)\n",
    "    assert depth.shape == (B, H, W)\n",
    "\n",
    "    # just compare the pixels values\n",
    "    loss = torch.mean(torch.abs(depth - depth_pred))\n",
    "    loss.backward()\n",
    "    optim.step()\n",
    "\n",
    "    if i % 300 == 0:\n",
    "        print(\"Loss:\", loss.item())\n",
    "        for p in model.parameters():\n",
    "            print(p)\n",
    "        plt.figure(figsize=(18, 6))\n",
    "        plt.subplot(1, 3, 1)\n",
    "        plt.title('Depth')\n",
    "        plt.imshow(x[0, :, :, 0], cmap='gray')\n",
    "        plt.subplot(1, 3, 2)\n",
    "        plt.title('Angles')\n",
    "        plt.imshow(x[0, :, :, 1])\n",
    "        plt.subplot(1, 3, 3)\n",
    "        plt.imshow(depth_pred[0].detach(), cmap='gray')\n",
    "        plt.show()\n"
   ]
  }
 ],
 "metadata": {
  "kernelspec": {
   "display_name": "Python 3 (ipykernel)",
   "language": "python",
   "name": "python3"
  },
  "language_info": {
   "codemirror_mode": {
    "name": "ipython",
    "version": 3
   },
   "file_extension": ".py",
   "mimetype": "text/x-python",
   "name": "python",
   "nbconvert_exporter": "python",
   "pygments_lexer": "ipython3",
   "version": "3.8.12"
  }
 },
 "nbformat": 4,
 "nbformat_minor": 5
}
