{
 "cells": [
  {
   "cell_type": "code",
   "execution_count": null,
   "id": "8c751481",
   "metadata": {},
   "outputs": [],
   "source": [
    "import open3d as o3d\n",
    "import sys\n",
    "import os\n",
    "import cv2\n",
    "import numpy as np\n",
    "import matplotlib.pyplot as plt\n",
    "import torch\n",
    "import imageio\n",
    "from tqdm import tqdm"
   ]
  },
  {
   "cell_type": "code",
   "execution_count": null,
   "id": "2ea7575a",
   "metadata": {},
   "outputs": [],
   "source": [
    "path = \"../ros_ws/src/gradslam_ros/data/explorer_x1_rgbd_traj/living_room_traj1_frei_png/\""
   ]
  },
  {
   "cell_type": "markdown",
   "id": "50bd9df2",
   "metadata": {},
   "source": [
    "#### RGB-D image"
   ]
  },
  {
   "cell_type": "code",
   "execution_count": null,
   "id": "59ee0910",
   "metadata": {},
   "outputs": [],
   "source": [
    "ind = 12\n",
    "# ind = np.random.randint(0, 553)\n",
    "\n",
    "color_raw = o3d.io.read_image(path+f\"rgb/{ind}.png\")\n",
    "depth_raw = o3d.io.read_image(path+f\"depth/{ind}.png\")\n",
    "rgbd_image = o3d.geometry.RGBDImage.create_from_color_and_depth(color_raw, depth_raw)\n",
    "\n",
    "plt.figure(figsize=(10, 5))\n",
    "plt.subplot(1, 2, 1)\n",
    "plt.title('grayscale image')\n",
    "plt.imshow(rgbd_image.color, cmap=\"gray\")\n",
    "plt.subplot(1, 2, 2)\n",
    "plt.title('depth image')\n",
    "plt.imshow(rgbd_image.depth, cmap=\"gray\")\n",
    "plt.show()"
   ]
  },
  {
   "cell_type": "markdown",
   "id": "195b1638",
   "metadata": {},
   "source": [
    "#### Intrinsics (camera matrix)"
   ]
  },
  {
   "cell_type": "code",
   "execution_count": null,
   "id": "5e849b54",
   "metadata": {},
   "outputs": [],
   "source": [
    "w, h = np.asarray(rgbd_image.color).shape\n",
    "\n",
    "K = np.load(path+f\"caminfo/{ind}.npy\")\n",
    "intrinsics = o3d.camera.PinholeCameraIntrinsic(width=w, height=h,\n",
    "                                               fx=K[0, 0], fy=K[1, 1], cx=K[0, 2], cy=K[1, 2])"
   ]
  },
  {
   "cell_type": "code",
   "execution_count": null,
   "id": "06df5f6d",
   "metadata": {},
   "outputs": [],
   "source": [
    "# Usually has shape:\n",
    "# array([[fx,   0., cx],\n",
    "#       [  0. , fy, cy],\n",
    "#       [  0. , 0., 1.]]\n",
    "# Reference:\n",
    "# (1) TDV slides: http://cmp.felk.cvut.cz/cmp/courses/TDV/2021W/lectures/tdv-2021-02.pdf\n",
    "# (2) TDV lecture video (around 38:30): http://cmp.felk.cvut.cz/cmp/courses/TDV/2021W/lectures/tdv-2021-02.mp4\n",
    "\n",
    "K"
   ]
  },
  {
   "cell_type": "markdown",
   "id": "abda6f95",
   "metadata": {},
   "source": [
    "#### Point cloud"
   ]
  },
  {
   "cell_type": "code",
   "execution_count": null,
   "id": "593c693c",
   "metadata": {},
   "outputs": [],
   "source": [
    "pts = np.load(path+f\"point_clouds/{ind}.npy\")\n",
    "\n",
    "pcd = o3d.geometry.PointCloud()\n",
    "pcd.points = o3d.utility.Vector3dVector(pts)\n",
    "o3d.visualization.draw_geometries([pcd])"
   ]
  },
  {
   "cell_type": "markdown",
   "id": "dc849700",
   "metadata": {},
   "source": [
    "#### Create point cloud from RGBD image"
   ]
  },
  {
   "cell_type": "code",
   "execution_count": null,
   "id": "43c962b3",
   "metadata": {},
   "outputs": [],
   "source": [
    "pcd = o3d.geometry.PointCloud.create_from_rgbd_image(rgbd_image, intrinsics)\n",
    "\n",
    "# Flip it, otherwise the pointcloud will be upside down\n",
    "pcd.transform([[1, 0, 0, 0], [0, -1, 0, 0], [0, 0, -1, 0], [0, 0, 0, 1]])\n",
    "\n",
    "o3d.visualization.draw_geometries([pcd])\n",
    "print(pcd)"
   ]
  },
  {
   "cell_type": "markdown",
   "id": "1c844170",
   "metadata": {},
   "source": [
    "#### Dataset"
   ]
  },
  {
   "cell_type": "code",
   "execution_count": null,
   "id": "ec9dce10",
   "metadata": {},
   "outputs": [],
   "source": [
    "path"
   ]
  },
  {
   "cell_type": "code",
   "execution_count": null,
   "id": "a92ca95d",
   "metadata": {},
   "outputs": [],
   "source": [
    "from gradslam import RGBDImages\n",
    "from gradslam.datasets import ICL\n",
    "from torch.utils.data import DataLoader\n",
    "\n",
    "N = 100\n",
    "\n",
    "dataset = ICL('../ros_ws/src/gradslam_ros/data/explorer_x1_rgbd_traj/', seqlen=N, height=h, width=w)\n",
    "loader = DataLoader(dataset=dataset, batch_size=1)\n",
    "colors, depths, intrinsics, poses, *_ = next(iter(loader))"
   ]
  },
  {
   "cell_type": "code",
   "execution_count": null,
   "id": "25608ae4",
   "metadata": {},
   "outputs": [],
   "source": [
    "poses.shape  # [batch_size, num_poses, 4, 4] - sequence of T = [R|t] matrices, T.shape = (4,4)"
   ]
  }
 ],
 "metadata": {
  "kernelspec": {
   "display_name": "Python 3 (ipykernel)",
   "language": "python",
   "name": "python3"
  },
  "language_info": {
   "codemirror_mode": {
    "name": "ipython",
    "version": 3
   },
   "file_extension": ".py",
   "mimetype": "text/x-python",
   "name": "python",
   "nbconvert_exporter": "python",
   "pygments_lexer": "ipython3",
   "version": "3.8.12"
  }
 },
 "nbformat": 4,
 "nbformat_minor": 5
}
